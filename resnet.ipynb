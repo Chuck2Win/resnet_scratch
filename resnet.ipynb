{
  "nbformat": 4,
  "nbformat_minor": 0,
  "metadata": {
    "colab": {
      "name": "resnet",
      "provenance": [],
      "collapsed_sections": [],
      "authorship_tag": "ABX9TyORfVSQHVOyJ1aHzXWGXEza",
      "include_colab_link": true
    },
    "kernelspec": {
      "name": "python3",
      "display_name": "Python 3"
    },
    "accelerator": "GPU"
  },
  "cells": [
    {
      "cell_type": "markdown",
      "metadata": {
        "id": "view-in-github",
        "colab_type": "text"
      },
      "source": [
        "<a href=\"https://colab.research.google.com/github/Chuck2Win/resnet_scratch/blob/master/resnet.ipynb\" target=\"_parent\"><img src=\"https://colab.research.google.com/assets/colab-badge.svg\" alt=\"Open In Colab\"/></a>"
      ]
    },
    {
      "cell_type": "code",
      "metadata": {
        "id": "GEHzHNX3qtxZ",
        "colab_type": "code",
        "colab": {}
      },
      "source": [
        "import numpy\n",
        "import torch\n",
        "import torch.nn as nn\n",
        "import torch.nn.functional as F\n",
        "from matplotlib import pyplot as plt\n",
        "import torchvision"
      ],
      "execution_count": 0,
      "outputs": []
    },
    {
      "cell_type": "code",
      "metadata": {
        "id": "46bksGaZq-Bx",
        "colab_type": "code",
        "colab": {
          "base_uri": "https://localhost:8080/",
          "height": 54
        },
        "outputId": "4a2931af-b36f-4d30-9385-d176bea3a554"
      },
      "source": [
        "train=torchvision.datasets.CIFAR10('./',True,transform=torchvision.transforms.ToTensor(),download=True)\n",
        "test=torchvision.datasets.CIFAR10('./',False,transform=torchvision.transforms.ToTensor(),download=True)"
      ],
      "execution_count": 127,
      "outputs": [
        {
          "output_type": "stream",
          "text": [
            "Files already downloaded and verified\n",
            "Files already downloaded and verified\n"
          ],
          "name": "stdout"
        }
      ]
    },
    {
      "cell_type": "code",
      "metadata": {
        "id": "5QHGMbewrNcJ",
        "colab_type": "code",
        "colab": {}
      },
      "source": [
        "from sklearn.model_selection import train_test_split\n",
        "train_data,val_data=train_test_split(train,test_size=0.2)"
      ],
      "execution_count": 0,
      "outputs": []
    },
    {
      "cell_type": "code",
      "metadata": {
        "id": "RpU-FwlXyJTj",
        "colab_type": "code",
        "colab": {}
      },
      "source": [
        "# class 내에서 함수 선언..\n",
        "\n",
        "class resnet(nn.Module):\n",
        "    def __init__(self,n):\n",
        "        super().__init__()\n",
        "        self.first_conv=nn.Conv2d(3,16,3,1,1)\n",
        "        self.conv1=nn.Sequential(nn.Conv2d(16,16,3,1,1),nn.BatchNorm1d(32),nn.ReLU(),nn.Conv2d(16,16,3,1,1),nn.BatchNorm1d(32))\n",
        "        self.conv2=nn.Sequential(nn.Conv2d(32,32,3,1,1),nn.BatchNorm1d(16),nn.ReLU(),nn.Conv2d(32,32,3,1,1),nn.BatchNorm1d(16))\n",
        "        self.conv3=nn.Sequential(nn.Conv2d(64,64,3,1,1),nn.BatchNorm1d(8),nn.ReLU(),nn.Conv2d(64,64,3,1,1),nn.BatchNorm1d(8))\n",
        "    \n",
        "        \n",
        "    \n",
        "    def forward(self,input,n):\n",
        "        '''\n",
        "        input : [N,C,H,W] - [128,3,32,32]\n",
        "        result1 : [128,16,32,32]\n",
        "        result2 : [128,16,32,32]\n",
        "        result2_ : [128,16,16,16]\n",
        "        '''\n",
        "        x=first_conv(input)\n",
        "        ind=0\n",
        "        while True:\n",
        "            x=self.conv1(x)+x\n",
        "            x=nn.ReLU(x)\n",
        "            ind+=1\n",
        "            if ind==n:\n",
        "                break\n",
        "        \n",
        "\n",
        "        \n"
      ],
      "execution_count": 0,
      "outputs": []
    },
    {
      "cell_type": "code",
      "metadata": {
        "id": "ePnwqgNE4cUT",
        "colab_type": "code",
        "colab": {}
      },
      "source": [
        "\n",
        "\n",
        "\n",
        "class simple(nn.Module):\n",
        "    def __init__(self):\n",
        "        super().__init__()\n",
        "        self.model=nn.Sequential(self.model1,self.model2)\n",
        "    def model1(self):\n",
        "        nn.Linear(16,32)\n",
        "    def model2(self):\n",
        "        return nn.Linear(32,64)\n",
        "    def forward(input):\n",
        "        return self.model(input)"
      ],
      "execution_count": 0,
      "outputs": []
    },
    {
      "cell_type": "code",
      "metadata": {
        "id": "jXA0u01O4-YC",
        "colab_type": "code",
        "colab": {}
      },
      "source": [
        "# nn.Sequential(*layers) \n",
        "# asterisk(*) : 컨테이너 타입의 데이터를 unpacking 할 때\n",
        "\n",
        "layers=[]\n",
        "layers.append(nn.Linear(10,10))\n",
        "layers.append(nn.ReLU())\n",
        "m=nn.Sequential(*layers)"
      ],
      "execution_count": 0,
      "outputs": []
    },
    {
      "cell_type": "code",
      "metadata": {
        "id": "MlaFyNIXZjrq",
        "colab_type": "code",
        "colab": {
          "base_uri": "https://localhost:8080/",
          "height": 55
        },
        "outputId": "d07066b3-f72d-4723-8cb5-617620637b6b"
      },
      "source": [
        "l=[*m]*3\n",
        "print(l)"
      ],
      "execution_count": 132,
      "outputs": [
        {
          "output_type": "stream",
          "text": [
            "[Linear(in_features=10, out_features=10, bias=True), ReLU(), Linear(in_features=10, out_features=10, bias=True), ReLU(), Linear(in_features=10, out_features=10, bias=True), ReLU()]\n"
          ],
          "name": "stdout"
        }
      ]
    },
    {
      "cell_type": "code",
      "metadata": {
        "id": "CC754S5n8WkC",
        "colab_type": "code",
        "colab": {}
      },
      "source": [
        "class build_block1(nn.Module):\n",
        "    def __init__(self,channel1,channel2):\n",
        "        super().__init__()\n",
        "        self.residual_1=nn.Sequential(nn.Conv2d(channel1,channel2,3,1,1),nn.BatchNorm2d(channel2),nn.ReLU(),nn.Conv2d(channel2,channel2,3,1,1),nn.BatchNorm2d(channel2))\n",
        "        self.relu=nn.ReLU()\n",
        "        \n",
        "    def forward(self,input):\n",
        "        return self.relu(self.residual_1(input)+input)\n",
        "class build_block2(nn.Module):\n",
        "    def __init__(self,channel1,channel2):\n",
        "        super().__init__()\n",
        "        self.residual_d=nn.Sequential(nn.Conv2d(channel1,channel2,3,2,1),nn.BatchNorm2d(channel2),nn.ReLU(),nn.Conv2d(channel2,channel2,3,1,1),nn.BatchNorm2d(channel2))\n",
        "        self.conv_d=nn.Sequential(nn.Conv2d(channel1,channel2,1,2,0),nn.BatchNorm2d(channel2))        \n",
        "        self.relu=nn.ReLU()\n",
        "        \n",
        "    def forward(self,input):\n",
        "        return self.relu(self.residual_d(input)+self.conv_d(input))\n",
        "        "
      ],
      "execution_count": 0,
      "outputs": []
    },
    {
      "cell_type": "code",
      "metadata": {
        "id": "tUyYdNKznTRR",
        "colab_type": "code",
        "colab": {}
      },
      "source": [
        "class residual(nn.Module):\n",
        "    def __init__(self,channels,n):\n",
        "        super().__init__()\n",
        "        layer_1_features=[]\n",
        "        for _ in range(n):\n",
        "            layer_1_features.append(build_block1(channels[0],channels[0]))\n",
        "        self.layer_1=nn.Sequential(*layer_1_features)\n",
        "        \n",
        "        layer_2_features=[]\n",
        "        layer_2_features.append(build_block2(channels[0],channels[1]))\n",
        "        for i in range(1,n):\n",
        "            layer_2_features.append(build_block1(channels[1],channels[1]))\n",
        "        self.layer_2=nn.Sequential(*layer_2_features)\n",
        "\n",
        "        layer_3_features=[build_block2(channels[1],channels[2])]\n",
        "        for j in range(n-1):\n",
        "            layer_3_features.append(build_block1(channels[2],channels[2]))\n",
        "        self.layer_3=nn.Sequential(*layer_3_features)\n",
        "        self.conv1=nn.Conv2d(3,channels[0],3,1,1)\n",
        "        self.fc=nn.Sequential(nn.Linear(64*8*8,10),nn.BatchNorm1d(10),nn.ReLU())\n",
        "    def forward(self,input):\n",
        "        x=self.conv1(input)\n",
        "        x=self.layer_1(x)\n",
        "        x=self.layer_2(x)\n",
        "        x=self.layer_3(x)\n",
        "        x=x.reshape(-1,64*8*8)\n",
        "        x=self.fc(x)\n",
        "        return x\n",
        "\n",
        "        "
      ],
      "execution_count": 0,
      "outputs": []
    },
    {
      "cell_type": "code",
      "metadata": {
        "id": "MhhFCSmtwPhT",
        "colab_type": "code",
        "colab": {}
      },
      "source": [
        "# train_loader\n",
        "train_loader=torch.utils.data.DataLoader(train_data,128,drop_last=True)"
      ],
      "execution_count": 0,
      "outputs": []
    },
    {
      "cell_type": "code",
      "metadata": {
        "id": "Jpm6D9Znwit5",
        "colab_type": "code",
        "colab": {
          "base_uri": "https://localhost:8080/",
          "height": 199
        },
        "outputId": "6ae63793-a7f3-4975-a356-931aa852a7b1"
      },
      "source": [
        "# 학습을 시켜보자\n",
        "channels=[16,32,64]\n",
        "n=3\n",
        "lr=0.01\n",
        "device=torch.device('cuda' if torch.cuda.is_available else 'cpu')\n",
        "model=residual(channels,n).to(device)\n",
        "optimizer=torch.optim.Adam(model.parameters(),lr=lr)\n",
        "epochs=10\n",
        "cost=[]\n",
        "acc=[]\n",
        "for epoch in range(epochs):\n",
        "    avg_loss=0\n",
        "    avg_acc=0\n",
        "    b=0\n",
        "    for img,label in train_loader:\n",
        "        optimizer.zero_grad()\n",
        "        img=img.to(device)\n",
        "        label=label.to(device)\n",
        "        predict=model.forward(img)\n",
        "        acc_=(predict.argmax(dim=1)==label).float().mean()\n",
        "        loss=F.cross_entropy(predict,label)\n",
        "        loss.backward()\n",
        "        optimizer.step()\n",
        "        avg_loss+=loss.item()\n",
        "        avg_acc+=acc_\n",
        "        b+=1\n",
        "    avg_loss/=b\n",
        "    avg_acc/=b\n",
        "    cost.append(avg_loss)\n",
        "    acc.append(avg_acc)\n",
        "    print(epoch)\n",
        "\n"
      ],
      "execution_count": 159,
      "outputs": [
        {
          "output_type": "stream",
          "text": [
            "0\n",
            "1\n",
            "2\n",
            "3\n",
            "4\n",
            "5\n",
            "6\n",
            "7\n",
            "8\n",
            "9\n"
          ],
          "name": "stdout"
        }
      ]
    },
    {
      "cell_type": "code",
      "metadata": {
        "id": "FWz5c5nszInJ",
        "colab_type": "code",
        "colab": {
          "base_uri": "https://localhost:8080/",
          "height": 283
        },
        "outputId": "607b20d6-c771-4462-e858-5a6b7cee024e"
      },
      "source": [
        "plt.plot(acc)"
      ],
      "execution_count": 160,
      "outputs": [
        {
          "output_type": "execute_result",
          "data": {
            "text/plain": [
              "[<matplotlib.lines.Line2D at 0x7fa7ea126fd0>]"
            ]
          },
          "metadata": {
            "tags": []
          },
          "execution_count": 160
        },
        {
          "output_type": "display_data",
          "data": {
            "image/png": "[encoded data removed]",
            "text/plain": [
              "<Figure size 432x288 with 1 Axes>"
            ]
          },
          "metadata": {
            "tags": []
          }
        }
      ]
    }
  ]
}